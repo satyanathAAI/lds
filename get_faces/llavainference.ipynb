{
 "cells": [
  {
   "cell_type": "code",
   "execution_count": 2,
   "id": "bc5e6c74",
   "metadata": {},
   "outputs": [],
   "source": [
    "from sagemaker.huggingface.model import HuggingFaceModel\n"
   ]
  },
  {
   "cell_type": "code",
   "execution_count": 3,
   "id": "c1f2fa5f",
   "metadata": {},
   "outputs": [
    {
     "name": "stdout",
     "output_type": "stream",
     "text": [
      "---------------!"
     ]
    }
   ],
   "source": [
    "from sagemaker.huggingface.model import HuggingFaceModel\n",
    "\n",
    "# create Hugging Face Model Class\n",
    "huggingface_model = HuggingFaceModel(\n",
    "   model_data=\"s3://sagemaker-us-east-1-198331371273/llava-v1.5-7b/model.tar.gz\",      # path to your model and script\n",
    "   role=role,                    # iam role with permissions to create an Endpoint\n",
    "   transformers_version=\"4.28.1\",  # transformers version used\n",
    "   pytorch_version=\"2.0.0\",       # pytorch version used\n",
    "   py_version='py310',            # python version used\n",
    "   model_server_workers=1\n",
    ")\n",
    "\n",
    "# deploy the endpoint endpoint\n",
    "predictor = huggingface_model.deploy(\n",
    "    initial_instance_count=1,\n",
    "    instance_type=\"ml.g5.xlarge\",\n",
    "     container_startup_health_check_timeout=600, # increase timeout for large models\n",
    "     model_data_download_timeout=600, # increase timeout for large models\n",
    ")"
   ]
  },
  {
   "cell_type": "code",
   "execution_count": 4,
   "id": "8e492729",
   "metadata": {},
   "outputs": [
    {
     "name": "stdout",
     "output_type": "stream",
     "text": [
      "The image features a small toy horse with a red body and a pair of glasses on its face. The horse appears to be made of plastic and is standing on a gray surface. The horse's body is painted red, and the glasses are a bright orange color, which contrasts with the red body. The overall scene is quite eye-catching and playful.\n"
     ]
    }
   ],
   "source": [
    "data = {\n",
    "    \"image\" : 'https://raw.githubusercontent.com/haotian-liu/LLaVA/main/images/llava_logo.png', \n",
    "    \"question\" : \"Describe the image and color details.\",\n",
    "    # \"max_new_tokens\" : 1024,\n",
    "    # \"temperature\" : 0.2,\n",
    "    # \"stop_str\" : \"###\"\n",
    "}\n",
    "\n",
    "# request\n",
    "output = predictor.predict(data)\n",
    "print(output)"
   ]
  },
  {
   "cell_type": "code",
   "execution_count": null,
   "id": "68c817d7",
   "metadata": {},
   "outputs": [
    {
     "ename": "",
     "evalue": "",
     "output_type": "error",
     "traceback": [
      "\u001b[1;31mRunning cells with 'Python 3.11.9' requires the ipykernel package.\n",
      "\u001b[1;31mRun the following command to install 'ipykernel' into the Python environment. \n",
      "\u001b[1;31mCommand: 'c:/Users/chanukya.sappa/AppData/Local/Microsoft/WindowsApps/python3.11.exe -m pip install ipykernel -U --user --force-reinstall'"
     ]
    }
   ],
   "source": [
    "import av\n",
    "import cv2\n",
    "\n",
    " \n",
    "#response = requests.get(\"https://assetiq-inputs.s3.amazonaws.com/input_images/2023_youth_theme_poster.jpeg\")\n",
    " \n",
    "import boto3\n",
    "\n",
    "\n",
    " \n",
    "# Initialize a session using Amazon S3\n",
    "s3_client = boto3.client(\n",
    "    's3',\n",
    "    aws_access_key_id='',\n",
    "    aws_secret_access_key=''\n",
    ")\n",
    " \n",
    "# Specify the bucket name and object key (the image)\n",
    "bucket_name = 'assetiq-inputs'\n",
    "object_key = \"input_videos/2011-04-1040-achieve-your-eternal-destiny-720p-eng.mp4\"\n",
    " \n",
    "# Generate a pre-signed URL for the object\n",
    "try:\n",
    "    response = s3_client.generate_presigned_url(\n",
    "        'get_object',\n",
    "        Params={'Bucket': bucket_name, 'Key': object_key},\n",
    "        ExpiresIn=3600  # URL expiry time in seconds\n",
    "    )\n",
    "except Exception as e:\n",
    "    print(f\"Error generating pre-signed URL: {e}\")\n",
    "    response = None\n",
    "print(response)\n",
    " "
   ]
  },
  {
   "cell_type": "code",
   "execution_count": null,
   "id": "d95460c5",
   "metadata": {},
   "outputs": [],
   "source": []
  }
 ],
 "metadata": {
  "kernelspec": {
   "display_name": "Python 3",
   "language": "python",
   "name": "python3"
  },
  "language_info": {
   "codemirror_mode": {
    "name": "ipython",
    "version": 3
   },
   "file_extension": ".py",
   "mimetype": "text/x-python",
   "name": "python",
   "nbconvert_exporter": "python",
   "pygments_lexer": "ipython3",
   "version": "3.11.9"
  }
 },
 "nbformat": 4,
 "nbformat_minor": 5
}
